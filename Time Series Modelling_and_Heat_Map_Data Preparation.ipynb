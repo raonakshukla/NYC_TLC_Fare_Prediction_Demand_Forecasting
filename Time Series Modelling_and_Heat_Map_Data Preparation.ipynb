{
 "cells": [
  {
   "cell_type": "code",
   "execution_count": 0,
   "metadata": {
    "application/vnd.databricks.v1+cell": {
     "cellMetadata": {
      "byteLimit": 2048000,
      "rowLimit": 10000
     },
     "inputWidgets": {},
     "nuid": "006fda19-805d-49a7-bb18-8013adf20180",
     "showTitle": false,
     "title": ""
    }
   },
   "outputs": [
    {
     "output_type": "stream",
     "name": "stdout",
     "output_type": "stream",
     "text": [
      "\u001B[43mNote: you may need to restart the kernel using dbutils.library.restartPython() to use updated packages.\u001B[0m\nRequirement already satisfied: pyspark in /local_disk0/.ephemeral_nfs/envs/pythonEnv-dd34143f-38d8-4eff-b77e-e340ca602314/lib/python3.10/site-packages (3.5.1)\nRequirement already satisfied: py4j==0.10.9.7 in /local_disk0/.ephemeral_nfs/envs/pythonEnv-dd34143f-38d8-4eff-b77e-e340ca602314/lib/python3.10/site-packages (from pyspark) (0.10.9.7)\n\u001B[43mNote: you may need to restart the kernel using dbutils.library.restartPython() to use updated packages.\u001B[0m\n"
     ]
    }
   ],
   "source": [
    "!pip install pyspark"
   ]
  },
  {
   "cell_type": "code",
   "execution_count": 0,
   "metadata": {
    "application/vnd.databricks.v1+cell": {
     "cellMetadata": {
      "byteLimit": 2048000,
      "rowLimit": 10000
     },
     "collapsed": true,
     "inputWidgets": {},
     "nuid": "e33fc5aa-921f-4fe4-a2a8-528421f18039",
     "showTitle": false,
     "title": ""
    }
   },
   "outputs": [
    {
     "output_type": "execute_result",
     "data": {
      "text/plain": [
       "(<SparkContext master=spark://10.139.64.10:7077 appName=Databricks Shell>,\n",
       " <pyspark.sql.session.SparkSession at 0x7f4806361270>)"
      ]
     },
     "execution_count": 5,
     "metadata": {},
     "output_type": "execute_result"
    }
   ],
   "source": [
    "(sc, spark)"
   ]
  },
  {
   "cell_type": "code",
   "execution_count": 0,
   "metadata": {
    "application/vnd.databricks.v1+cell": {
     "cellMetadata": {
      "byteLimit": 2048000,
      "rowLimit": 10000
     },
     "inputWidgets": {},
     "nuid": "0a184783-3aa6-46bf-929c-ae8d42324b44",
     "showTitle": false,
     "title": ""
    }
   },
   "outputs": [],
   "source": [
    "from pyspark.sql import SparkSession\n",
    "\n",
    "spark = SparkSession \\\n",
    "    .builder \\\n",
    "    .master(\"local[*]\") \\\n",
    "    .appName(\"MLlib lab\") \\\n",
    "    .config(\"spark.sql.parquet.enableVectorizedReader\", \"false\") \\\n",
    "    .getOrCreate()\n",
    "    \n",
    "# swith the latest spark version to older one so that it tolerates some data format issues\n",
    "spark.conf.set(\"spark.sql.legacy.timeParserPolicy\", \"LEGACY\")\n",
    "\n",
    "\"\"\" \n",
    "in order to avoid \"Parquet column cannot be converted\" error, we need to disable vectorized reader when we have decimal values in our columns. \n",
    "refer to https://learn.microsoft.com/en-us/answers/questions/853861/parquet-column-cannot-be-converted for further info\n",
    "\"\"\"\n",
    "# spark.conf.set(\"spark.sql.parquet.enableVectorizedReader\", \"false\") \n",
    "\n",
    "sc = spark.sparkContext\n"
   ]
  },
  {
   "cell_type": "code",
   "execution_count": 0,
   "metadata": {
    "application/vnd.databricks.v1+cell": {
     "cellMetadata": {
      "byteLimit": 2048000,
      "rowLimit": 10000
     },
     "inputWidgets": {},
     "nuid": "a2b6bf1d-592f-4b2a-9df9-91b6c68457c6",
     "showTitle": false,
     "title": ""
    }
   },
   "outputs": [],
   "source": [
    "%matplotlib inline\n",
    "import matplotlib.pyplot as plt\n",
    "import pyspark.sql.functions as F\n",
    "from pyspark.sql import Row"
   ]
  },
  {
   "cell_type": "code",
   "execution_count": 0,
   "metadata": {
    "application/vnd.databricks.v1+cell": {
     "cellMetadata": {
      "byteLimit": 2048000,
      "rowLimit": 10000
     },
     "inputWidgets": {},
     "nuid": "ec98d14f-57ea-41cb-ba97-9ce367e68ef1",
     "showTitle": false,
     "title": ""
    }
   },
   "outputs": [
    {
     "output_type": "stream",
     "name": "stdout",
     "output_type": "stream",
     "text": [
      "Total number of rows:1095700561\n"
     ]
    }
   ],
   "source": [
    "import pandas as pd\n",
    "from pyspark.sql.types import StructType, StructField, StringType, TimestampNTZType, LongType, DoubleType,IntegerType\n",
    "\"\"\"\n",
    "We have encountered \"Parquet column cannot be converted\" error. As a workaround we decided to loop through directory and ensure there is no column type mismatch by checking file by file.\n",
    "\"\"\"\n",
    "\n",
    "directory = '/mnt/2024-team14/'\n",
    "\n",
    "# List all parquet files\n",
    "parquet_files = dbutils.fs.ls(directory)\n",
    "#print(parquet_files)\n",
    "#weather_file = parquet_files.pop()\n",
    "#taxi_lookup = parquet_files.pop()\n",
    "#json = parquet_files.pop()\n",
    "#traffic = parquet_files.pop()\n",
    "\n",
    "# Loop through directory and check where there is a column type mismatch between files\n",
    "\"\"\"prev_types, curr_types = None, None\n",
    "mismatches = {}\n",
    "for file in parquet_files: \n",
    "  if file.path == \"/mnt/2024-team14/weather_data.csv\": \n",
    "    df1 = spark.read.csv(path) \n",
    "    continue\n",
    "  # Read the Parquet file with schema inference\n",
    "  df = spark.read.parquet(file.path)\n",
    "\n",
    "  if not prev_types and not curr_types:\n",
    "    curr_types = df.dtypes\n",
    "    continue\n",
    "  \n",
    "  prev_types = curr_types\n",
    "  curr_types = df.dtypes\n",
    "\n",
    "  # check each column\n",
    "  for i in range(len(df.columns)):\n",
    "    if prev_types[i] != curr_types[i]:\n",
    "      if not file.name in mismatches:\n",
    "        mismatches[file.name] = [(prev_types[i][0], (prev_types[i][1], curr_types[i][1]))]\n",
    "      else:\n",
    "        mismatches[file.name].append((prev_types[i][0], (prev_types[i][1], curr_types[i][1])))\"\"\"\n",
    "\n",
    "# print(mismatches)\n",
    "schema = StructType([\n",
    "  StructField('hvfhs_license_num', StringType(), nullable=True), \n",
    "  StructField('dispatching_base_num', StringType(), nullable=True), \n",
    "  StructField('originating_base_num', StringType(), nullable=True), \n",
    "  StructField('request_datetime', TimestampNTZType(), nullable=True), \n",
    "  StructField('on_scene_datetime', TimestampNTZType(), nullable=True), \n",
    "  StructField('pickup_datetime', TimestampNTZType(), nullable=True), \n",
    "  StructField('dropoff_datetime', TimestampNTZType(), nullable=True), \n",
    "  StructField('PULocationID', LongType(), nullable=True), \n",
    "  StructField('DOLocationID', LongType(), nullable=True), \n",
    "  StructField('trip_miles', DoubleType(), nullable=True), \n",
    "  StructField('trip_time', LongType(), nullable=True), \n",
    "  StructField('base_passenger_fare', DoubleType(), nullable=True), \n",
    "  StructField('tolls', DoubleType(), nullable=True), \n",
    "  StructField('bcf', DoubleType(), nullable=True), \n",
    "  StructField('sales_tax', DoubleType(), nullable=True), \n",
    "  StructField('congestion_surcharge', DoubleType(), nullable=True), \n",
    "  StructField('airport_fee', IntegerType(), nullable=True), \n",
    "  StructField('tips', DoubleType(), nullable=True), \n",
    "  StructField('driver_pay', DoubleType(), nullable=True), \n",
    "  StructField('shared_request_flag', StringType(), nullable=True), \n",
    "  StructField('shared_match_flag', StringType(), nullable=True), \n",
    "  StructField('access_a_ride_flag', StringType(), nullable=True), \n",
    "  StructField('wav_request_flag', StringType(), nullable=True), \n",
    "  StructField('wav_match_flag', IntegerType(), nullable=True)\n",
    "])\n",
    "# Create empty dataframe\n",
    "union_df = spark.createDataFrame(spark.sparkContext.emptyRDD(), schema)\n",
    "\n",
    "# Process each Parquet file\n",
    "for file in parquet_files:\n",
    "  if file.path == \"dbfs:/mnt/2024-team14/MTA_2020mar_2024apr.csv\":\n",
    "    df3 = spark.read.csv(file.path, header=True)\n",
    "  if file.path == \"dbfs:/mnt/2024-team14/weather_data.csv\":\n",
    "    df1 = spark.read.csv(file.path, header=True)\n",
    "  if file.path == 'dbfs:/mnt/2024-team14/taxi_zone_lookup.csv':\n",
    "    df2 = spark.read.csv(file.path, header=True)\n",
    "  if 'parquet' in file.path:  \n",
    "    df = spark.read.parquet(file.path)\n",
    "    # Read the Parquet file with schema inference\n",
    "  #df = spark.read.parquet(file.path)\n",
    "\n",
    "    # (column with mismatch, desirable type)\n",
    "  mismatch_col = [\n",
    "      (\"wav_match_flag\", \"string\"), \n",
    "      (\"airport_fee\", \"double\"), \n",
    "      (\"PULocationID\", \"bigint\"), \n",
    "      (\"DOLocationID\", \"bigint\")\n",
    "    ]\n",
    "\n",
    "  df = df.withColumns({c: F.col(c).cast(t) for c, t in mismatch_col})\n",
    "\n",
    "    # Union the casted DataFrame with the union_df\n",
    "  union_df = union_df.union(df)\n",
    "\n",
    "# Revert the variable name after unioning the whole data\n",
    "df = union_df\n",
    "\n",
    "total_rows = df.count()\n",
    "print(f\"Total number of rows:{total_rows}\")"
   ]
  },
  {
   "cell_type": "code",
   "execution_count": 0,
   "metadata": {
    "application/vnd.databricks.v1+cell": {
     "cellMetadata": {
      "byteLimit": 2048000,
      "rowLimit": 10000
     },
     "inputWidgets": {},
     "nuid": "43e0bd00-e175-4bab-ba9f-8e5f41d756b0",
     "showTitle": false,
     "title": ""
    }
   },
   "outputs": [
    {
     "output_type": "stream",
     "name": "stdout",
     "output_type": "stream",
     "text": [
      "root\n |-- hvfhs_license_num: string (nullable = true)\n |-- dispatching_base_num: string (nullable = true)\n |-- originating_base_num: string (nullable = true)\n |-- request_datetime: timestamp_ntz (nullable = true)\n |-- on_scene_datetime: timestamp_ntz (nullable = true)\n |-- pickup_datetime: timestamp_ntz (nullable = true)\n |-- dropoff_datetime: timestamp_ntz (nullable = true)\n |-- PULocationID: long (nullable = true)\n |-- DOLocationID: long (nullable = true)\n |-- trip_miles: double (nullable = true)\n |-- trip_time: long (nullable = true)\n |-- base_passenger_fare: double (nullable = true)\n |-- tolls: double (nullable = true)\n |-- bcf: double (nullable = true)\n |-- sales_tax: double (nullable = true)\n |-- congestion_surcharge: double (nullable = true)\n |-- airport_fee: double (nullable = true)\n |-- tips: double (nullable = true)\n |-- driver_pay: double (nullable = true)\n |-- shared_request_flag: string (nullable = true)\n |-- shared_match_flag: string (nullable = true)\n |-- access_a_ride_flag: string (nullable = true)\n |-- wav_request_flag: string (nullable = true)\n |-- wav_match_flag: string (nullable = true)\n |-- day: integer (nullable = true)\n |-- hour: integer (nullable = true)\n |-- month: integer (nullable = true)\n |-- year: integer (nullable = true)\n |-- Date: date (nullable = true)\n |-- week: integer (nullable = true)\n |-- speed: double (nullable = true)\n\n"
     ]
    }
   ],
   "source": [
    "# Creating new columns for date, day, week, month and year\n",
    "df=df.withColumn(\"day\",F.dayofyear('pickup_datetime'))\n",
    "df=df.withColumn(\"hour\",F.hour('pickup_datetime'))\n",
    "df=df.withColumn(\"month\",F.month('pickup_datetime'))\n",
    "df=df.withColumn(\"year\",F.year('pickup_datetime'))\n",
    "df=df.withColumn(\"Date\",F.to_date('pickup_datetime'))\n",
    "df=df.withColumn(\"week\",F.weekofyear('pickup_datetime'))\n",
    "df=df.withColumn(\"week\",F.when(F.col(\"year\") == 2019, F.col(\"week\")).when(F.col(\"year\") == 2020, F.col(\"week\") + 48)\n",
    "  .when(F.col(\"year\") == 2021, F.col(\"week\")+ 48 + 52).when(F.col(\"year\") == 2022, F.col(\"week\") + 48 + 52 + 52).when(F.col(\"year\")==2023,F.col(\"week\")+ 48 + 52 + 52 + 52).otherwise(F.col(\"week\")+ 48 + 52 + 52 + 52 + 52))\n",
    "df = df.withColumn(\"speed\",F.col(\"trip_miles\") / F.col(\"trip_time\") * 3600)\n",
    "df.printSchema()\n"
   ]
  },
  {
   "cell_type": "code",
   "execution_count": 0,
   "metadata": {
    "application/vnd.databricks.v1+cell": {
     "cellMetadata": {
      "byteLimit": 2048000,
      "rowLimit": 10000
     },
     "inputWidgets": {},
     "nuid": "8f08056c-95ec-480a-a68f-31ff5efc9726",
     "showTitle": false,
     "title": ""
    }
   },
   "outputs": [],
   "source": [
    "import holidays\n",
    "year_range = (2019, 2025)\n",
    "hds = []\n",
    "for y in range(year_range[0], year_range[1]):\n",
    "  hds += holidays.US(state=\"NY\", years=y).keys()"
   ]
  },
  {
   "cell_type": "code",
   "execution_count": 0,
   "metadata": {
    "application/vnd.databricks.v1+cell": {
     "cellMetadata": {
      "byteLimit": 2048000,
      "rowLimit": 10000
     },
     "inputWidgets": {},
     "nuid": "7cecd0d5-ed6a-486b-8d20-4b9fe954b406",
     "showTitle": false,
     "title": ""
    }
   },
   "outputs": [],
   "source": [
    "df = df.withColumns({\n",
    "  \"isWeekend\": F.when(F.col(\"Date\").isin(hds) | F.dayofweek(F.col(\"Date\")).isin([1, 7]), 1).otherwise(0),\n",
    "  \"isOvernight\": F.when(F.col(\"hour\").isin(list(range(20, 24))+list(range(0, 6))), 1).otherwise(0)}) \\\n",
    "  .withColumn(\"isRushhour\", \n",
    "              F.when(F.col(\"hour\").isin(list(range(16, 20))) | (F.col(\"isWeekend\") == 0), 1).otherwise(0)\n",
    "              )"
   ]
  },
  {
   "cell_type": "code",
   "execution_count": 0,
   "metadata": {
    "application/vnd.databricks.v1+cell": {
     "cellMetadata": {
      "byteLimit": 2048000,
      "rowLimit": 10000
     },
     "inputWidgets": {},
     "nuid": "2be6be9e-5009-4193-a32c-5593b8a78aba",
     "showTitle": false,
     "title": ""
    }
   },
   "outputs": [
    {
     "output_type": "display_data",
     "data": {
      "image/png": "[encoded data removed]",
      "text/plain": [
       "<Figure size 640x480 with 1 Axes>"
      ]
     },
     "metadata": {},
     "output_type": "display_data"
    },
    {
     "output_type": "display_data",
     "data": {
      "text/html": [
       "<style scoped>\n",
       "  .table-result-container {\n",
       "    max-height: 300px;\n",
       "    overflow: auto;\n",
       "  }\n",
       "  table, th, td {\n",
       "    border: 1px solid black;\n",
       "    border-collapse: collapse;\n",
       "  }\n",
       "  th, td {\n",
       "    padding: 5px;\n",
       "  }\n",
       "  th {\n",
       "    text-align: left;\n",
       "  }\n",
       "</style><div class='table-result-container'><table class='table-result'><thead style='background-color: white'><tr><th>week</th><th>count</th></tr></thead><tbody><tr><td>26</td><td>4873456</td></tr><tr><td>22</td><td>4896862</td></tr><tr><td>23</td><td>4793698</td></tr><tr><td>25</td><td>4924628</td></tr><tr><td>24</td><td>4829736</td></tr><tr><td>1</td><td>1343678</td></tr><tr><td>52</td><td>8863638</td></tr><tr><td>48</td><td>4538421</td></tr><tr><td>49</td><td>8344364</td></tr><tr><td>51</td><td>10145932</td></tr><tr><td>50</td><td>10066586</td></tr><tr><td>93</td><td>2837218</td></tr><tr><td>94</td><td>2770075</td></tr><tr><td>96</td><td>2481703</td></tr><tr><td>92</td><td>3247616</td></tr><tr><td>97</td><td>2621020</td></tr><tr><td>95</td><td>2673313</td></tr><tr><td>108</td><td>3056167</td></tr><tr><td>107</td><td>2875222</td></tr><tr><td>105</td><td>2614714</td></tr><tr><td>106</td><td>3067839</td></tr><tr><td>126</td><td>3358054</td></tr><tr><td>128</td><td>3472861</td></tr><tr><td>127</td><td>3385484</td></tr><tr><td>130</td><td>3357806</td></tr><tr><td>129</td><td>3311678</td></tr><tr><td>155</td><td>3561604</td></tr><tr><td>157</td><td>3939339</td></tr><tr><td>154</td><td>3435629</td></tr><tr><td>156</td><td>3327721</td></tr><tr><td>204</td><td>4088811</td></tr><tr><td>153</td><td>4106773</td></tr><tr><td>193</td><td>4262727</td></tr><tr><td>192</td><td>4264748</td></tr><tr><td>191</td><td>4095304</td></tr><tr><td>196</td><td>4234737</td></tr><tr><td>194</td><td>4316160</td></tr><tr><td>195</td><td>4550858</td></tr><tr><td>230</td><td>4250408</td></tr><tr><td>232</td><td>4402946</td></tr><tr><td>233</td><td>4464732</td></tr><tr><td>235</td><td>4175492</td></tr><tr><td>231</td><td>4028855</td></tr><tr><td>234</td><td>4468393</td></tr><tr><td>258</td><td>4439594</td></tr><tr><td>257</td><td>4096073</td></tr><tr><td>264</td><td>13738098</td></tr><tr><td>265</td><td>7738044</td></tr><tr><td>262</td><td>13918950</td></tr><tr><td>261</td><td>10195546</td></tr><tr><td>263</td><td>14229840</td></tr><tr><td>183</td><td>3990733</td></tr><tr><td>185</td><td>3844678</td></tr><tr><td>184</td><td>3950560</td></tr><tr><td>186</td><td>3887387</td></tr><tr><td>187</td><td>3929640</td></tr><tr><td>227</td><td>4507395</td></tr><tr><td>229</td><td>4501544</td></tr><tr><td>226</td><td>4388688</td></tr><tr><td>228</td><td>4591250</td></tr><tr><td>253</td><td>9847450</td></tr><tr><td>254</td><td>9990650</td></tr><tr><td>6</td><td>4922348</td></tr><tr><td>5</td><td>2483275</td></tr><tr><td>9</td><td>5334093</td></tr><tr><td>8</td><td>4965885</td></tr><tr><td>7</td><td>4987638</td></tr><tr><td>31</td><td>4705605</td></tr><tr><td>28</td><td>4632774</td></tr><tr><td>27</td><td>4070109</td></tr><tr><td>29</td><td>4906073</td></tr><tr><td>30</td><td>4822920</td></tr><tr><td>20</td><td>5174761</td></tr><tr><td>19</td><td>5101370</td></tr><tr><td>21</td><td>4729148</td></tr><tr><td>18</td><td>5294804</td></tr><tr><td>44</td><td>4928448</td></tr><tr><td>40</td><td>4691463</td></tr><tr><td>41</td><td>4699142</td></tr><tr><td>43</td><td>4884603</td></tr><tr><td>42</td><td>4856585</td></tr><tr><td>12</td><td>5292297</td></tr><tr><td>13</td><td>5202903</td></tr><tr><td>10</td><td>5480761</td></tr><tr><td>11</td><td>5354500</td></tr><tr><td>53</td><td>4961341</td></tr><tr><td>57</td><td>5438868</td></tr><tr><td>61</td><td>999965</td></tr><tr><td>59</td><td>4205708</td></tr><tr><td>62</td><td>909288</td></tr><tr><td>60</td><td>1865633</td></tr><tr><td>58</td><td>5275219</td></tr><tr><td>34</td><td>4523897</td></tr><tr><td>35</td><td>4392597</td></tr><tr><td>32</td><td>4518366</td></tr><tr><td>33</td><td>4531678</td></tr><tr><td>65</td><td>1081531</td></tr><tr><td>64</td><td>1031914</td></tr><tr><td>63</td><td>899871</td></tr><tr><td>66</td><td>1188370</td></tr><tr><td>69</td><td>1399007</td></tr><tr><td>70</td><td>1556688</td></tr><tr><td>68</td><td>1327799</td></tr><tr><td>67</td><td>1270583</td></tr><tr><td>101</td><td>4034908</td></tr><tr><td>100</td><td>2521289</td></tr><tr><td>98</td><td>2661773</td></tr><tr><td>99</td><td>2712062</td></tr><tr><td>122</td><td>3444583</td></tr><tr><td>120</td><td>3413338</td></tr><tr><td>117</td><td>3264413</td></tr><tr><td>121</td><td>3399706</td></tr><tr><td>119</td><td>3216091</td></tr><tr><td>118</td><td>3311192</td></tr><tr><td>148</td><td>3926974</td></tr><tr><td>146</td><td>3962269</td></tr><tr><td>145</td><td>3811233</td></tr><tr><td>147</td><td>3607730</td></tr><tr><td>144</td><td>3693882</td></tr><tr><td>16</td><td>5032286</td></tr><tr><td>15</td><td>5229178</td></tr><tr><td>17</td><td>4931140</td></tr><tr><td>14</td><td>5254992</td></tr><tr><td>85</td><td>2732047</td></tr><tr><td>86</td><td>2862546</td></tr><tr><td>88</td><td>3001885</td></tr><tr><td>84</td><td>2680884</td></tr><tr><td>87</td><td>3014472</td></tr><tr><td>177</td><td>4227690</td></tr><tr><td>178</td><td>3808603</td></tr><tr><td>175</td><td>4181561</td></tr><tr><td>176</td><td>4203062</td></tr><tr><td>174</td><td>4074031</td></tr><tr><td>217</td><td>4498303</td></tr><tr><td>216</td><td>4433403</td></tr><tr><td>214</td><td>4653205</td></tr><tr><td>213</td><td>4666403</td></tr><tr><td>215</td><td>4763650</td></tr><tr><td>91</td><td>2877426</td></tr><tr><td>90</td><td>2945465</td></tr><tr><td>89</td><td>2836427</td></tr><tr><td>111</td><td>3411157</td></tr><tr><td>112</td><td>3257610</td></tr><tr><td>113</td><td>3235330</td></tr><tr><td>109</td><td>3137635</td></tr><tr><td>110</td><td>3163387</td></tr><tr><td>243</td><td>4601089</td></tr><tr><td>244</td><td>4466819</td></tr><tr><td>245</td><td>4531632</td></tr><tr><td>78</td><td>2368456</td></tr><tr><td>76</td><td>2139046</td></tr><tr><td>77</td><td>2263965</td></tr><tr><td>75</td><td>2028195</td></tr><tr><td>79</td><td>2446466</td></tr><tr><td>37</td><td>4834443</td></tr><tr><td>39</td><td>4657179</td></tr><tr><td>38</td><td>4721953</td></tr><tr><td>36</td><td>4659752</td></tr><tr><td>255</td><td>9001178</td></tr><tr><td>256</td><td>8162894</td></tr><tr><td>115</td><td>3288113</td></tr><tr><td>114</td><td>3299745</td></tr><tr><td>116</td><td>3278330</td></tr><tr><td>133</td><td>3155392</td></tr><tr><td>132</td><td>3393441</td></tr><tr><td>135</td><td>3375231</td></tr><tr><td>131</td><td>3309725</td></tr><tr><td>134</td><td>3319561</td></tr><tr><td>81</td><td>2487273</td></tr><tr><td>82</td><td>2526139</td></tr><tr><td>80</td><td>2475543</td></tr><tr><td>83</td><td>2538187</td></tr><tr><td>47</td><td>5244324</td></tr><tr><td>45</td><td>4996212</td></tr><tr><td>46</td><td>5190583</td></tr><tr><td>209</td><td>4494223</td></tr><tr><td>206</td><td>4233737</td></tr><tr><td>205</td><td>3712412</td></tr><tr><td>207</td><td>4365141</td></tr><tr><td>208</td><td>4466552</td></tr><tr><td>140</td><td>3576424</td></tr><tr><td>142</td><td>3660522</td></tr><tr><td>139</td><td>3492569</td></tr><tr><td>143</td><td>3972046</td></tr><tr><td>141</td><td>3641387</td></tr><tr><td>239</td><td>4177684</td></tr><tr><td>240</td><td>4754530</td></tr><tr><td>159</td><td>4099163</td></tr><tr><td>161</td><td>4121983</td></tr><tr><td>160</td><td>4032092</td></tr><tr><td>158</td><td>3928582</td></tr><tr><td>168</td><td>3981746</td></tr><tr><td>169</td><td>4107818</td></tr><tr><td>165</td><td>4267484</td></tr><tr><td>166</td><td>4192756</td></tr><tr><td>167</td><td>4042138</td></tr><tr><td>182</td><td>4004010</td></tr><tr><td>179</td><td>3645940</td></tr><tr><td>181</td><td>4137615</td></tr><tr><td>180</td><td>3975104</td></tr><tr><td>54</td><td>5167434</td></tr><tr><td>55</td><td>5280428</td></tr><tr><td>56</td><td>4999837</td></tr><tr><td>250</td><td>4673660</td></tr><tr><td>249</td><td>4574301</td></tr><tr><td>190</td><td>4135454</td></tr><tr><td>189</td><td>4257442</td></tr><tr><td>188</td><td>4252965</td></tr><tr><td>197</td><td>4304157</td></tr><tr><td>200</td><td>4431861</td></tr><tr><td>198</td><td>4604285</td></tr><tr><td>199</td><td>3828812</td></tr><tr><td>218</td><td>4259598</td></tr><tr><td>220</td><td>4431574</td></tr><tr><td>219</td><td>4292306</td></tr><tr><td>221</td><td>4731519</td></tr><tr><td>72</td><td>1752574</td></tr><tr><td>73</td><td>1830380</td></tr><tr><td>71</td><td>1391396</td></tr><tr><td>74</td><td>2027741</td></tr><tr><td>236</td><td>4221084</td></tr><tr><td>238</td><td>4112403</td></tr><tr><td>237</td><td>4154040</td></tr><tr><td>103</td><td>2718226</td></tr><tr><td>102</td><td>2689710</td></tr><tr><td>104</td><td>2893375</td></tr><tr><td>246</td><td>4625314</td></tr><tr><td>247</td><td>4765129</td></tr><tr><td>125</td><td>3507356</td></tr><tr><td>123</td><td>3525450</td></tr><tr><td>124</td><td>3488926</td></tr><tr><td>248</td><td>4515202</td></tr><tr><td>137</td><td>3541749</td></tr><tr><td>136</td><td>3478298</td></tr><tr><td>138</td><td>3533518</td></tr><tr><td>251</td><td>4174277</td></tr><tr><td>252</td><td>7134367</td></tr><tr><td>152</td><td>2074182</td></tr><tr><td>151</td><td>3069218</td></tr><tr><td>150</td><td>3814311</td></tr><tr><td>149</td><td>4136335</td></tr><tr><td>259</td><td>4780601</td></tr><tr><td>260</td><td>4604628</td></tr><tr><td>164</td><td>4155783</td></tr><tr><td>163</td><td>4139959</td></tr><tr><td>162</td><td>4271381</td></tr><tr><td>173</td><td>3930553</td></tr><tr><td>171</td><td>4150809</td></tr><tr><td>170</td><td>4248263</td></tr><tr><td>172</td><td>4251031</td></tr><tr><td>202</td><td>4798657</td></tr><tr><td>203</td><td>4140581</td></tr><tr><td>201</td><td>4734537</td></tr><tr><td>211</td><td>4470265</td></tr><tr><td>210</td><td>4445635</td></tr><tr><td>212</td><td>4451364</td></tr><tr><td>223</td><td>4563677</td></tr><tr><td>222</td><td>4585787</td></tr><tr><td>225</td><td>4351163</td></tr><tr><td>224</td><td>4710057</td></tr><tr><td>241</td><td>4591587</td></tr><tr><td>242</td><td>4571350</td></tr></tbody></table></div>"
      ]
     },
     "metadata": {
      "application/vnd.databricks.v1+output": {
       "addedWidgets": {},
       "aggData": [],
       "aggError": "",
       "aggOverflow": false,
       "aggSchema": [],
       "aggSeriesLimitReached": false,
       "aggType": "",
       "arguments": {},
       "columnCustomDisplayInfos": {},
       "data": [
        [
         26,
         4873456
        ],
        [
         22,
         4896862
        ],
        [
         23,
         4793698
        ],
        [
         25,
         4924628
        ],
        [
         24,
         4829736
        ],
        [
         1,
         1343678
        ],
        [
         52,
         8863638
        ],
        [
         48,
         4538421
        ],
        [
         49,
         8344364
        ],
        [
         51,
         10145932
        ],
        [
         50,
         10066586
        ],
        [
         93,
         2837218
        ],
        [
         94,
         2770075
        ],
        [
         96,
         2481703
        ],
        [
         92,
         3247616
        ],
        [
         97,
         2621020
        ],
        [
         95,
         2673313
        ],
        [
         108,
         3056167
        ],
        [
         107,
         2875222
        ],
        [
         105,
         2614714
        ],
        [
         106,
         3067839
        ],
        [
         126,
         3358054
        ],
        [
         128,
         3472861
        ],
        [
         127,
         3385484
        ],
        [
         130,
         3357806
        ],
        [
         129,
         3311678
        ],
        [
         155,
         3561604
        ],
        [
         157,
         3939339
        ],
        [
         154,
         3435629
        ],
        [
         156,
         3327721
        ],
        [
         204,
         4088811
        ],
        [
         153,
         4106773
        ],
        [
         193,
         4262727
        ],
        [
         192,
         4264748
        ],
        [
         191,
         4095304
        ],
        [
         196,
         4234737
        ],
        [
         194,
         4316160
        ],
        [
         195,
         4550858
        ],
        [
         230,
         4250408
        ],
        [
         232,
         4402946
        ],
        [
         233,
         4464732
        ],
        [
         235,
         4175492
        ],
        [
         231,
         4028855
        ],
        [
         234,
         4468393
        ],
        [
         258,
         4439594
        ],
        [
         257,
         4096073
        ],
        [
         264,
         13738098
        ],
        [
         265,
         7738044
        ],
        [
         262,
         13918950
        ],
        [
         261,
         10195546
        ],
        [
         263,
         14229840
        ],
        [
         183,
         3990733
        ],
        [
         185,
         3844678
        ],
        [
         184,
         3950560
        ],
        [
         186,
         3887387
        ],
        [
         187,
         3929640
        ],
        [
         227,
         4507395
        ],
        [
         229,
         4501544
        ],
        [
         226,
         4388688
        ],
        [
         228,
         4591250
        ],
        [
         253,
         9847450
        ],
        [
         254,
         9990650
        ],
        [
         6,
         4922348
        ],
        [
         5,
         2483275
        ],
        [
         9,
         5334093
        ],
        [
         8,
         4965885
        ],
        [
         7,
         4987638
        ],
        [
         31,
         4705605
        ],
        [
         28,
         4632774
        ],
        [
         27,
         4070109
        ],
        [
         29,
         4906073
        ],
        [
         30,
         4822920
        ],
        [
         20,
         5174761
        ],
        [
         19,
         5101370
        ],
        [
         21,
         4729148
        ],
        [
         18,
         5294804
        ],
        [
         44,
         4928448
        ],
        [
         40,
         4691463
        ],
        [
         41,
         4699142
        ],
        [
         43,
         4884603
        ],
        [
         42,
         4856585
        ],
        [
         12,
         5292297
        ],
        [
         13,
         5202903
        ],
        [
         10,
         5480761
        ],
        [
         11,
         5354500
        ],
        [
         53,
         4961341
        ],
        [
         57,
         5438868
        ],
        [
         61,
         999965
        ],
        [
         59,
         4205708
        ],
        [
         62,
         909288
        ],
        [
         60,
         1865633
        ],
        [
         58,
         5275219
        ],
        [
         34,
         4523897
        ],
        [
         35,
         4392597
        ],
        [
         32,
         4518366
        ],
        [
         33,
         4531678
        ],
        [
         65,
         1081531
        ],
        [
         64,
         1031914
        ],
        [
         63,
         899871
        ],
        [
         66,
         1188370
        ],
        [
         69,
         1399007
        ],
        [
         70,
         1556688
        ],
        [
         68,
         1327799
        ],
        [
         67,
         1270583
        ],
        [
         101,
         4034908
        ],
        [
         100,
         2521289
        ],
        [
         98,
         2661773
        ],
        [
         99,
         2712062
        ],
        [
         122,
         3444583
        ],
        [
         120,
         3413338
        ],
        [
         117,
         3264413
        ],
        [
         121,
         3399706
        ],
        [
         119,
         3216091
        ],
        [
         118,
         3311192
        ],
        [
         148,
         3926974
        ],
        [
         146,
         3962269
        ],
        [
         145,
         3811233
        ],
        [
         147,
         3607730
        ],
        [
         144,
         3693882
        ],
        [
         16,
         5032286
        ],
        [
         15,
         5229178
        ],
        [
         17,
         4931140
        ],
        [
         14,
         5254992
        ],
        [
         85,
         2732047
        ],
        [
         86,
         2862546
        ],
        [
         88,
         3001885
        ],
        [
         84,
         2680884
        ],
        [
         87,
         3014472
        ],
        [
         177,
         4227690
        ],
        [
         178,
         3808603
        ],
        [
         175,
         4181561
        ],
        [
         176,
         4203062
        ],
        [
         174,
         4074031
        ],
        [
         217,
         4498303
        ],
        [
         216,
         4433403
        ],
        [
         214,
         4653205
        ],
        [
         213,
         4666403
        ],
        [
         215,
         4763650
        ],
        [
         91,
         2877426
        ],
        [
         90,
         2945465
        ],
        [
         89,
         2836427
        ],
        [
         111,
         3411157
        ],
        [
         112,
         3257610
        ],
        [
         113,
         3235330
        ],
        [
         109,
         3137635
        ],
        [
         110,
         3163387
        ],
        [
         243,
         4601089
        ],
        [
         244,
         4466819
        ],
        [
         245,
         4531632
        ],
        [
         78,
         2368456
        ],
        [
         76,
         2139046
        ],
        [
         77,
         2263965
        ],
        [
         75,
         2028195
        ],
        [
         79,
         2446466
        ],
        [
         37,
         4834443
        ],
        [
         39,
         4657179
        ],
        [
         38,
         4721953
        ],
        [
         36,
         4659752
        ],
        [
         255,
         9001178
        ],
        [
         256,
         8162894
        ],
        [
         115,
         3288113
        ],
        [
         114,
         3299745
        ],
        [
         116,
         3278330
        ],
        [
         133,
         3155392
        ],
        [
         132,
         3393441
        ],
        [
         135,
         3375231
        ],
        [
         131,
         3309725
        ],
        [
         134,
         3319561
        ],
        [
         81,
         2487273
        ],
        [
         82,
         2526139
        ],
        [
         80,
         2475543
        ],
        [
         83,
         2538187
        ],
        [
         47,
         5244324
        ],
        [
         45,
         4996212
        ],
        [
         46,
         5190583
        ],
        [
         209,
         4494223
        ],
        [
         206,
         4233737
        ],
        [
         205,
         3712412
        ],
        [
         207,
         4365141
        ],
        [
         208,
         4466552
        ],
        [
         140,
         3576424
        ],
        [
         142,
         3660522
        ],
        [
         139,
         3492569
        ],
        [
         143,
         3972046
        ],
        [
         141,
         3641387
        ],
        [
         239,
         4177684
        ],
        [
         240,
         4754530
        ],
        [
         159,
         4099163
        ],
        [
         161,
         4121983
        ],
        [
         160,
         4032092
        ],
        [
         158,
         3928582
        ],
        [
         168,
         3981746
        ],
        [
         169,
         4107818
        ],
        [
         165,
         4267484
        ],
        [
         166,
         4192756
        ],
        [
         167,
         4042138
        ],
        [
         182,
         4004010
        ],
        [
         179,
         3645940
        ],
        [
         181,
         4137615
        ],
        [
         180,
         3975104
        ],
        [
         54,
         5167434
        ],
        [
         55,
         5280428
        ],
        [
         56,
         4999837
        ],
        [
         250,
         4673660
        ],
        [
         249,
         4574301
        ],
        [
         190,
         4135454
        ],
        [
         189,
         4257442
        ],
        [
         188,
         4252965
        ],
        [
         197,
         4304157
        ],
        [
         200,
         4431861
        ],
        [
         198,
         4604285
        ],
        [
         199,
         3828812
        ],
        [
         218,
         4259598
        ],
        [
         220,
         4431574
        ],
        [
         219,
         4292306
        ],
        [
         221,
         4731519
        ],
        [
         72,
         1752574
        ],
        [
         73,
         1830380
        ],
        [
         71,
         1391396
        ],
        [
         74,
         2027741
        ],
        [
         236,
         4221084
        ],
        [
         238,
         4112403
        ],
        [
         237,
         4154040
        ],
        [
         103,
         2718226
        ],
        [
         102,
         2689710
        ],
        [
         104,
         2893375
        ],
        [
         246,
         4625314
        ],
        [
         247,
         4765129
        ],
        [
         125,
         3507356
        ],
        [
         123,
         3525450
        ],
        [
         124,
         3488926
        ],
        [
         248,
         4515202
        ],
        [
         137,
         3541749
        ],
        [
         136,
         3478298
        ],
        [
         138,
         3533518
        ],
        [
         251,
         4174277
        ],
        [
         252,
         7134367
        ],
        [
         152,
         2074182
        ],
        [
         151,
         3069218
        ],
        [
         150,
         3814311
        ],
        [
         149,
         4136335
        ],
        [
         259,
         4780601
        ],
        [
         260,
         4604628
        ],
        [
         164,
         4155783
        ],
        [
         163,
         4139959
        ],
        [
         162,
         4271381
        ],
        [
         173,
         3930553
        ],
        [
         171,
         4150809
        ],
        [
         170,
         4248263
        ],
        [
         172,
         4251031
        ],
        [
         202,
         4798657
        ],
        [
         203,
         4140581
        ],
        [
         201,
         4734537
        ],
        [
         211,
         4470265
        ],
        [
         210,
         4445635
        ],
        [
         212,
         4451364
        ],
        [
         223,
         4563677
        ],
        [
         222,
         4585787
        ],
        [
         225,
         4351163
        ],
        [
         224,
         4710057
        ],
        [
         241,
         4591587
        ],
        [
         242,
         4571350
        ]
       ],
       "datasetInfos": [],
       "dbfsResultPath": null,
       "isJsonSchema": true,
       "metadata": {},
       "overflow": false,
       "plotOptions": {
        "customPlotOptions": {},
        "displayType": "table",
        "pivotAggregation": null,
        "pivotColumns": null,
        "xColumns": null,
        "yColumns": null
       },
       "removedWidgets": [],
       "schema": [
        {
         "metadata": "{}",
         "name": "week",
         "type": "\"integer\""
        },
        {
         "metadata": "{}",
         "name": "count",
         "type": "\"long\""
        }
       ],
       "type": "table"
      }
     },
     "output_type": "display_data"
    }
   ],
   "source": [
    "df_time = df.groupBy(\"week\").count()\n",
    "abc = df_time.select(\"week\",\"count\").orderBy(\"week\").collect()\n",
    "(x_values, y_values) = zip(*abc)\n",
    "plt.plot(x_values, y_values)\n",
    "plt.title('Time Series')\n",
    "plt.xlabel('Week')\n",
    "plt.ylabel('Number of Trips')\n",
    "plt.show()\n",
    "display(df_time)"
   ]
  },
  {
   "cell_type": "code",
   "execution_count": 0,
   "metadata": {
    "application/vnd.databricks.v1+cell": {
     "cellMetadata": {},
     "collapsed": true,
     "inputWidgets": {},
     "nuid": "67ba4d3d-aa55-457b-ad22-f223d7ac73fa",
     "showTitle": false,
     "title": ""
    }
   },
   "outputs": [],
   "source": [
    "df = df.dropna()"
   ]
  },
  {
   "cell_type": "code",
   "execution_count": 0,
   "metadata": {
    "application/vnd.databricks.v1+cell": {
     "cellMetadata": {},
     "inputWidgets": {},
     "nuid": "e5515f59-daa5-424c-9021-a943edd2726d",
     "showTitle": false,
     "title": ""
    }
   },
   "outputs": [],
   "source": [
    "pu_zone = df.groupBy(\"PUZone\").count()\n",
    "display(pu_zone)"
   ]
  },
  {
   "cell_type": "code",
   "execution_count": 0,
   "metadata": {
    "application/vnd.databricks.v1+cell": {
     "cellMetadata": {},
     "inputWidgets": {},
     "nuid": "1fbdb8a4-c973-4ac1-9e24-efae36eb2895",
     "showTitle": false,
     "title": ""
    }
   },
   "outputs": [],
   "source": [
    "do_zone = df.groupBy(\"DOZone\").count()\n",
    "display(do_zone)"
   ]
  }
 ],
 "metadata": {
  "application/vnd.databricks.v1+notebook": {
   "dashboards": [],
   "language": "python",
   "notebookMetadata": {
    "pythonIndentUnit": 2
   },
   "notebookName": "Time Series Modelling and Heat Map Data Preparation",
   "widgets": {}
  }
 },
 "nbformat": 4,
 "nbformat_minor": 0
}
